{
  "nbformat": 4,
  "nbformat_minor": 0,
  "metadata": {
    "colab": {
      "name": "TSataev_solution_hw_9.ipynb",
      "provenance": []
    },
    "kernelspec": {
      "name": "python3",
      "display_name": "Python 3"
    }
  },
  "cells": [
    {
      "cell_type": "markdown",
      "metadata": {
        "id": "zIYx1HonvvCr",
        "colab_type": "text"
      },
      "source": [
        "## **Урок 9. Кейс 2. Внедрение модели в продукцию**"
      ]
    },
    {
      "cell_type": "markdown",
      "metadata": {
        "id": "II8W_xKav397",
        "colab_type": "text"
      },
      "source": [
        "### **Тимур С.**"
      ]
    },
    {
      "cell_type": "markdown",
      "metadata": {
        "id": "iWmF6Uciv7kr",
        "colab_type": "text"
      },
      "source": [
        "**Реализовать API для модели машинного обучения (можно взять модели из второй или третьей лекции), код представить в виде пулл реквеста в репозиторий курса (https://github.com/MindSetLib/geekbrains_tasks).**\n",
        "\n",
        "**Пример API из лекции 4 - https://github.com/MindSetLib/Flask-ML-API**"
      ]
    },
    {
      "cell_type": "markdown",
      "metadata": {
        "id": "eQlPza4ZwKoD",
        "colab_type": "text"
      },
      "source": [
        "Это заглушка!"
      ]
    },
    {
      "cell_type": "code",
      "metadata": {
        "id": "lwmImw2pvzcW",
        "colab_type": "code",
        "colab": {}
      },
      "source": [
        ""
      ],
      "execution_count": 0,
      "outputs": []
    }
  ]
}