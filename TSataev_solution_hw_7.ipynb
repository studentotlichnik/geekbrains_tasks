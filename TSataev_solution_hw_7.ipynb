{
  "nbformat": 4,
  "nbformat_minor": 0,
  "metadata": {
    "colab": {
      "name": "Homework_7.ipynb",
      "provenance": []
    },
    "kernelspec": {
      "name": "python3",
      "display_name": "Python 3"
    }
  },
  "cells": [
    {
      "cell_type": "markdown",
      "metadata": {
        "id": "dkJDqJPLD9SC",
        "colab_type": "text"
      },
      "source": [
        "## **Урок 7. Кейс 2. Типы моделей для задачи тарификации**"
      ]
    },
    {
      "cell_type": "markdown",
      "metadata": {
        "id": "owxjdGWREMMP",
        "colab_type": "text"
      },
      "source": [
        "### **Тимур С.**"
      ]
    },
    {
      "cell_type": "markdown",
      "metadata": {
        "id": "NfoIVulyEgw_",
        "colab_type": "text"
      },
      "source": [
        "### Домашнее задание"
      ]
    },
    {
      "cell_type": "markdown",
      "metadata": {
        "id": "5H4mjhvcEZ0Y",
        "colab_type": "text"
      },
      "source": [
        "**Построить обобщенную линейную модель (GLM) для прогнозирования наступления страховых случаев на рассмотренных в ноутбуке данных. Подобрать необходимое распределение и тип связи, при необходимости ознакомиться с документацией H20. Придумать и использовать дополнительные факторы при построении модели (например, пересечения признаков или функции от них и т.д.). Оценить результаты построенной модели при помощи различных метрик (можно использовать и другие метрики помимо представленных в ноутбуке), проанализировать вероятные проблемы. Предложить способы их решения и/или попробовать их решить, улучшив результат.**"
      ]
    },
    {
      "cell_type": "code",
      "metadata": {
        "id": "FRnFtupN4d8q",
        "colab_type": "code",
        "colab": {
          "base_uri": "https://localhost:8080/",
          "height": 34
        },
        "outputId": "aab4c3a4-498c-4f8b-90c1-f09614aada05"
      },
      "source": [
        "from google.colab import drive\n",
        "drive.mount('/content/drive')"
      ],
      "execution_count": 501,
      "outputs": [
        {
          "output_type": "stream",
          "text": [
            "Drive already mounted at /content/drive; to attempt to forcibly remount, call drive.mount(\"/content/drive\", force_remount=True).\n"
          ],
          "name": "stdout"
        }
      ]
    },
    {
      "cell_type": "code",
      "metadata": {
        "id": "vWGW4YQpDZn-",
        "colab_type": "code",
        "colab": {}
      },
      "source": [
        "import numpy as np\n",
        "import pandas as pd"
      ],
      "execution_count": 0,
      "outputs": []
    },
    {
      "cell_type": "code",
      "metadata": {
        "id": "XYI4Eu0yDaT2",
        "colab_type": "code",
        "colab": {
          "base_uri": "https://localhost:8080/",
          "height": 476
        },
        "outputId": "69df85bd-463b-4886-ee5d-bfcbb680bd73"
      },
      "source": [
        "# Загрузим набор данных\n",
        "\n",
        "df = pd.read_csv('/content/drive/My Drive/Colab Notebooks/freMPL-R.csv', low_memory=False)\n",
        "df = df.loc[df.Dataset.isin([5, 6, 7, 8, 9])]\n",
        "df.drop('Dataset', axis=1, inplace=True)\n",
        "df.dropna(axis=1, how='all', inplace=True)\n",
        "df.drop_duplicates(inplace=True)\n",
        "df.reset_index(drop=True, inplace=True)\n",
        "df.info()"
      ],
      "execution_count": 503,
      "outputs": [
        {
          "output_type": "stream",
          "text": [
            "<class 'pandas.core.frame.DataFrame'>\n",
            "RangeIndex: 115155 entries, 0 to 115154\n",
            "Data columns (total 20 columns):\n",
            " #   Column             Non-Null Count   Dtype  \n",
            "---  ------             --------------   -----  \n",
            " 0   Exposure           115155 non-null  float64\n",
            " 1   LicAge             115155 non-null  int64  \n",
            " 2   RecordBeg          115155 non-null  object \n",
            " 3   RecordEnd          59455 non-null   object \n",
            " 4   Gender             115155 non-null  object \n",
            " 5   MariStat           115155 non-null  object \n",
            " 6   SocioCateg         115155 non-null  object \n",
            " 7   VehUsage           115155 non-null  object \n",
            " 8   DrivAge            115155 non-null  int64  \n",
            " 9   HasKmLimit         115155 non-null  int64  \n",
            " 10  BonusMalus         115155 non-null  int64  \n",
            " 11  ClaimAmount        115155 non-null  float64\n",
            " 12  ClaimInd           115155 non-null  int64  \n",
            " 13  ClaimNbResp        115155 non-null  float64\n",
            " 14  ClaimNbNonResp     115155 non-null  float64\n",
            " 15  ClaimNbParking     115155 non-null  float64\n",
            " 16  ClaimNbFireTheft   115155 non-null  float64\n",
            " 17  ClaimNbWindscreen  115155 non-null  float64\n",
            " 18  OutUseNb           115155 non-null  float64\n",
            " 19  RiskArea           115155 non-null  float64\n",
            "dtypes: float64(9), int64(5), object(6)\n",
            "memory usage: 17.6+ MB\n"
          ],
          "name": "stdout"
        }
      ]
    },
    {
      "cell_type": "code",
      "metadata": {
        "id": "IuGspAXSDcnL",
        "colab_type": "code",
        "colab": {
          "base_uri": "https://localhost:8080/",
          "height": 309
        },
        "outputId": "7603f815-be84-4dc4-fd33-d6a10c6cf69d"
      },
      "source": [
        "df.head()"
      ],
      "execution_count": 504,
      "outputs": [
        {
          "output_type": "execute_result",
          "data": {
            "text/html": [
              "<div>\n",
              "<style scoped>\n",
              "    .dataframe tbody tr th:only-of-type {\n",
              "        vertical-align: middle;\n",
              "    }\n",
              "\n",
              "    .dataframe tbody tr th {\n",
              "        vertical-align: top;\n",
              "    }\n",
              "\n",
              "    .dataframe thead th {\n",
              "        text-align: right;\n",
              "    }\n",
              "</style>\n",
              "<table border=\"1\" class=\"dataframe\">\n",
              "  <thead>\n",
              "    <tr style=\"text-align: right;\">\n",
              "      <th></th>\n",
              "      <th>Exposure</th>\n",
              "      <th>LicAge</th>\n",
              "      <th>RecordBeg</th>\n",
              "      <th>RecordEnd</th>\n",
              "      <th>Gender</th>\n",
              "      <th>MariStat</th>\n",
              "      <th>SocioCateg</th>\n",
              "      <th>VehUsage</th>\n",
              "      <th>DrivAge</th>\n",
              "      <th>HasKmLimit</th>\n",
              "      <th>BonusMalus</th>\n",
              "      <th>ClaimAmount</th>\n",
              "      <th>ClaimInd</th>\n",
              "      <th>ClaimNbResp</th>\n",
              "      <th>ClaimNbNonResp</th>\n",
              "      <th>ClaimNbParking</th>\n",
              "      <th>ClaimNbFireTheft</th>\n",
              "      <th>ClaimNbWindscreen</th>\n",
              "      <th>OutUseNb</th>\n",
              "      <th>RiskArea</th>\n",
              "    </tr>\n",
              "  </thead>\n",
              "  <tbody>\n",
              "    <tr>\n",
              "      <th>0</th>\n",
              "      <td>0.083</td>\n",
              "      <td>332</td>\n",
              "      <td>2004-01-01</td>\n",
              "      <td>2004-02-01</td>\n",
              "      <td>Male</td>\n",
              "      <td>Other</td>\n",
              "      <td>CSP50</td>\n",
              "      <td>Professional</td>\n",
              "      <td>46</td>\n",
              "      <td>0</td>\n",
              "      <td>50</td>\n",
              "      <td>0.0</td>\n",
              "      <td>0</td>\n",
              "      <td>0.0</td>\n",
              "      <td>1.0</td>\n",
              "      <td>0.0</td>\n",
              "      <td>0.0</td>\n",
              "      <td>0.0</td>\n",
              "      <td>0.0</td>\n",
              "      <td>9.0</td>\n",
              "    </tr>\n",
              "    <tr>\n",
              "      <th>1</th>\n",
              "      <td>0.916</td>\n",
              "      <td>333</td>\n",
              "      <td>2004-02-01</td>\n",
              "      <td>NaN</td>\n",
              "      <td>Male</td>\n",
              "      <td>Other</td>\n",
              "      <td>CSP50</td>\n",
              "      <td>Professional</td>\n",
              "      <td>46</td>\n",
              "      <td>0</td>\n",
              "      <td>50</td>\n",
              "      <td>0.0</td>\n",
              "      <td>0</td>\n",
              "      <td>0.0</td>\n",
              "      <td>1.0</td>\n",
              "      <td>0.0</td>\n",
              "      <td>0.0</td>\n",
              "      <td>0.0</td>\n",
              "      <td>0.0</td>\n",
              "      <td>9.0</td>\n",
              "    </tr>\n",
              "    <tr>\n",
              "      <th>2</th>\n",
              "      <td>0.550</td>\n",
              "      <td>173</td>\n",
              "      <td>2004-05-15</td>\n",
              "      <td>2004-12-03</td>\n",
              "      <td>Male</td>\n",
              "      <td>Other</td>\n",
              "      <td>CSP50</td>\n",
              "      <td>Private+trip to office</td>\n",
              "      <td>32</td>\n",
              "      <td>0</td>\n",
              "      <td>68</td>\n",
              "      <td>0.0</td>\n",
              "      <td>0</td>\n",
              "      <td>0.0</td>\n",
              "      <td>2.0</td>\n",
              "      <td>0.0</td>\n",
              "      <td>0.0</td>\n",
              "      <td>0.0</td>\n",
              "      <td>0.0</td>\n",
              "      <td>7.0</td>\n",
              "    </tr>\n",
              "    <tr>\n",
              "      <th>3</th>\n",
              "      <td>0.089</td>\n",
              "      <td>364</td>\n",
              "      <td>2004-11-29</td>\n",
              "      <td>NaN</td>\n",
              "      <td>Female</td>\n",
              "      <td>Other</td>\n",
              "      <td>CSP55</td>\n",
              "      <td>Private+trip to office</td>\n",
              "      <td>52</td>\n",
              "      <td>0</td>\n",
              "      <td>50</td>\n",
              "      <td>0.0</td>\n",
              "      <td>0</td>\n",
              "      <td>0.0</td>\n",
              "      <td>0.0</td>\n",
              "      <td>0.0</td>\n",
              "      <td>0.0</td>\n",
              "      <td>0.0</td>\n",
              "      <td>0.0</td>\n",
              "      <td>8.0</td>\n",
              "    </tr>\n",
              "    <tr>\n",
              "      <th>4</th>\n",
              "      <td>0.233</td>\n",
              "      <td>426</td>\n",
              "      <td>2004-02-07</td>\n",
              "      <td>2004-05-01</td>\n",
              "      <td>Male</td>\n",
              "      <td>Other</td>\n",
              "      <td>CSP60</td>\n",
              "      <td>Private</td>\n",
              "      <td>57</td>\n",
              "      <td>0</td>\n",
              "      <td>50</td>\n",
              "      <td>0.0</td>\n",
              "      <td>0</td>\n",
              "      <td>0.0</td>\n",
              "      <td>0.0</td>\n",
              "      <td>0.0</td>\n",
              "      <td>0.0</td>\n",
              "      <td>0.0</td>\n",
              "      <td>0.0</td>\n",
              "      <td>7.0</td>\n",
              "    </tr>\n",
              "  </tbody>\n",
              "</table>\n",
              "</div>"
            ],
            "text/plain": [
              "   Exposure  LicAge   RecordBeg  ... ClaimNbWindscreen OutUseNb RiskArea\n",
              "0     0.083     332  2004-01-01  ...               0.0      0.0      9.0\n",
              "1     0.916     333  2004-02-01  ...               0.0      0.0      9.0\n",
              "2     0.550     173  2004-05-15  ...               0.0      0.0      7.0\n",
              "3     0.089     364  2004-11-29  ...               0.0      0.0      8.0\n",
              "4     0.233     426  2004-02-07  ...               0.0      0.0      7.0\n",
              "\n",
              "[5 rows x 20 columns]"
            ]
          },
          "metadata": {
            "tags": []
          },
          "execution_count": 504
        }
      ]
    },
    {
      "cell_type": "markdown",
      "metadata": {
        "id": "tqe9MX5xJ-jg",
        "colab_type": "text"
      },
      "source": [
        "В предыдущем уроке мы заметили отрицательную величину убытка для некоторых наблюдений. Заметим, что для всех таких полисов переменная \"ClaimInd\" принимает только значение 0. Поэтому заменим все соответствующие значения \"ClaimAmount\" нулями."
      ]
    },
    {
      "cell_type": "code",
      "metadata": {
        "id": "X2UX_SccDqfk",
        "colab_type": "code",
        "colab": {
          "base_uri": "https://localhost:8080/",
          "height": 221
        },
        "outputId": "d8757fbb-c175-4cdb-ac6a-e52658206631"
      },
      "source": [
        "NegClaimAmount = df.loc[df.ClaimAmount < 0, ['ClaimAmount','ClaimInd']]\n",
        "print('Unique values of ClaimInd:', NegClaimAmount.ClaimInd.unique())\n",
        "NegClaimAmount.head()"
      ],
      "execution_count": 505,
      "outputs": [
        {
          "output_type": "stream",
          "text": [
            "Unique values of ClaimInd: [0]\n"
          ],
          "name": "stdout"
        },
        {
          "output_type": "execute_result",
          "data": {
            "text/html": [
              "<div>\n",
              "<style scoped>\n",
              "    .dataframe tbody tr th:only-of-type {\n",
              "        vertical-align: middle;\n",
              "    }\n",
              "\n",
              "    .dataframe tbody tr th {\n",
              "        vertical-align: top;\n",
              "    }\n",
              "\n",
              "    .dataframe thead th {\n",
              "        text-align: right;\n",
              "    }\n",
              "</style>\n",
              "<table border=\"1\" class=\"dataframe\">\n",
              "  <thead>\n",
              "    <tr style=\"text-align: right;\">\n",
              "      <th></th>\n",
              "      <th>ClaimAmount</th>\n",
              "      <th>ClaimInd</th>\n",
              "    </tr>\n",
              "  </thead>\n",
              "  <tbody>\n",
              "    <tr>\n",
              "      <th>82</th>\n",
              "      <td>-74.206042</td>\n",
              "      <td>0</td>\n",
              "    </tr>\n",
              "    <tr>\n",
              "      <th>175</th>\n",
              "      <td>-1222.585196</td>\n",
              "      <td>0</td>\n",
              "    </tr>\n",
              "    <tr>\n",
              "      <th>177</th>\n",
              "      <td>-316.288822</td>\n",
              "      <td>0</td>\n",
              "    </tr>\n",
              "    <tr>\n",
              "      <th>363</th>\n",
              "      <td>-666.758610</td>\n",
              "      <td>0</td>\n",
              "    </tr>\n",
              "    <tr>\n",
              "      <th>375</th>\n",
              "      <td>-1201.600604</td>\n",
              "      <td>0</td>\n",
              "    </tr>\n",
              "  </tbody>\n",
              "</table>\n",
              "</div>"
            ],
            "text/plain": [
              "     ClaimAmount  ClaimInd\n",
              "82    -74.206042         0\n",
              "175 -1222.585196         0\n",
              "177  -316.288822         0\n",
              "363  -666.758610         0\n",
              "375 -1201.600604         0"
            ]
          },
          "metadata": {
            "tags": []
          },
          "execution_count": 505
        }
      ]
    },
    {
      "cell_type": "code",
      "metadata": {
        "id": "RhY3g08oJz7n",
        "colab_type": "code",
        "colab": {}
      },
      "source": [
        "df.loc[df.ClaimAmount < 0, 'ClaimAmount'] = 0"
      ],
      "execution_count": 0,
      "outputs": []
    },
    {
      "cell_type": "markdown",
      "metadata": {
        "id": "QY7sTHERKED4",
        "colab_type": "text"
      },
      "source": [
        "Перекодируем переменные типа object с помощью числовых значений"
      ]
    },
    {
      "cell_type": "code",
      "metadata": {
        "id": "LyghgXKtJz-L",
        "colab_type": "code",
        "colab": {}
      },
      "source": [
        "def SeriesFactorizer(series):\n",
        "    series, unique = pd.factorize(series)\n",
        "    reference = {x: i for x, i in enumerate(unique)}\n",
        "    print(reference)\n",
        "    return series, reference"
      ],
      "execution_count": 0,
      "outputs": []
    },
    {
      "cell_type": "code",
      "metadata": {
        "id": "-9KM3yBlJ0Av",
        "colab_type": "code",
        "colab": {
          "base_uri": "https://localhost:8080/",
          "height": 34
        },
        "outputId": "8a8cfbbb-68e8-4e20-cd8f-3396520f466e"
      },
      "source": [
        "df.Gender, GenderRef = SeriesFactorizer(df.Gender)"
      ],
      "execution_count": 508,
      "outputs": [
        {
          "output_type": "stream",
          "text": [
            "{0: 'Male', 1: 'Female'}\n"
          ],
          "name": "stdout"
        }
      ]
    },
    {
      "cell_type": "code",
      "metadata": {
        "id": "OmpRvH-mJ0Fh",
        "colab_type": "code",
        "colab": {
          "base_uri": "https://localhost:8080/",
          "height": 34
        },
        "outputId": "494fc419-8ec0-4b32-c77b-8497d8bb9324"
      },
      "source": [
        "df.MariStat, MariStatRef = SeriesFactorizer(df.MariStat)"
      ],
      "execution_count": 509,
      "outputs": [
        {
          "output_type": "stream",
          "text": [
            "{0: 'Other', 1: 'Alone'}\n"
          ],
          "name": "stdout"
        }
      ]
    },
    {
      "cell_type": "code",
      "metadata": {
        "id": "HxyXiCgRJ0Iw",
        "colab_type": "code",
        "colab": {
          "base_uri": "https://localhost:8080/",
          "height": 34
        },
        "outputId": "7f7fea45-7c4a-4d8c-a6ba-d861996a26d8"
      },
      "source": [
        "list(df.VehUsage.unique())"
      ],
      "execution_count": 510,
      "outputs": [
        {
          "output_type": "execute_result",
          "data": {
            "text/plain": [
              "['Professional', 'Private+trip to office', 'Private', 'Professional run']"
            ]
          },
          "metadata": {
            "tags": []
          },
          "execution_count": 510
        }
      ]
    },
    {
      "cell_type": "code",
      "metadata": {
        "id": "pA3OpNB5J0LP",
        "colab_type": "code",
        "colab": {
          "base_uri": "https://localhost:8080/",
          "height": 204
        },
        "outputId": "54eec1fb-7e8a-4181-c502-2ace9582642f"
      },
      "source": [
        "VU_dummies = pd.get_dummies(df.VehUsage, prefix='VehUsg', drop_first=False)\n",
        "VU_dummies.head()"
      ],
      "execution_count": 511,
      "outputs": [
        {
          "output_type": "execute_result",
          "data": {
            "text/html": [
              "<div>\n",
              "<style scoped>\n",
              "    .dataframe tbody tr th:only-of-type {\n",
              "        vertical-align: middle;\n",
              "    }\n",
              "\n",
              "    .dataframe tbody tr th {\n",
              "        vertical-align: top;\n",
              "    }\n",
              "\n",
              "    .dataframe thead th {\n",
              "        text-align: right;\n",
              "    }\n",
              "</style>\n",
              "<table border=\"1\" class=\"dataframe\">\n",
              "  <thead>\n",
              "    <tr style=\"text-align: right;\">\n",
              "      <th></th>\n",
              "      <th>VehUsg_Private</th>\n",
              "      <th>VehUsg_Private+trip to office</th>\n",
              "      <th>VehUsg_Professional</th>\n",
              "      <th>VehUsg_Professional run</th>\n",
              "    </tr>\n",
              "  </thead>\n",
              "  <tbody>\n",
              "    <tr>\n",
              "      <th>0</th>\n",
              "      <td>0</td>\n",
              "      <td>0</td>\n",
              "      <td>1</td>\n",
              "      <td>0</td>\n",
              "    </tr>\n",
              "    <tr>\n",
              "      <th>1</th>\n",
              "      <td>0</td>\n",
              "      <td>0</td>\n",
              "      <td>1</td>\n",
              "      <td>0</td>\n",
              "    </tr>\n",
              "    <tr>\n",
              "      <th>2</th>\n",
              "      <td>0</td>\n",
              "      <td>1</td>\n",
              "      <td>0</td>\n",
              "      <td>0</td>\n",
              "    </tr>\n",
              "    <tr>\n",
              "      <th>3</th>\n",
              "      <td>0</td>\n",
              "      <td>1</td>\n",
              "      <td>0</td>\n",
              "      <td>0</td>\n",
              "    </tr>\n",
              "    <tr>\n",
              "      <th>4</th>\n",
              "      <td>1</td>\n",
              "      <td>0</td>\n",
              "      <td>0</td>\n",
              "      <td>0</td>\n",
              "    </tr>\n",
              "  </tbody>\n",
              "</table>\n",
              "</div>"
            ],
            "text/plain": [
              "   VehUsg_Private  ...  VehUsg_Professional run\n",
              "0               0  ...                        0\n",
              "1               0  ...                        0\n",
              "2               0  ...                        0\n",
              "3               0  ...                        0\n",
              "4               1  ...                        0\n",
              "\n",
              "[5 rows x 4 columns]"
            ]
          },
          "metadata": {
            "tags": []
          },
          "execution_count": 511
        }
      ]
    },
    {
      "cell_type": "markdown",
      "metadata": {
        "id": "-Puen0EjKk6a",
        "colab_type": "text"
      },
      "source": [
        "Фактор \"SocioCateg\" содержит информацию о социальной категории в виде кодов классификации CSP. Агрегируем имеющиеся коды до 1 знака, а затем закодируем их с помощью one-hot encoding."
      ]
    },
    {
      "cell_type": "code",
      "metadata": {
        "id": "v8qhSvYnKWCG",
        "colab_type": "code",
        "colab": {
          "base_uri": "https://localhost:8080/",
          "height": 136
        },
        "outputId": "fa423c00-697e-4351-ef7c-19c80c654eb2"
      },
      "source": [
        "df['SocioCateg'].unique()"
      ],
      "execution_count": 512,
      "outputs": [
        {
          "output_type": "execute_result",
          "data": {
            "text/plain": [
              "array(['CSP50', 'CSP55', 'CSP60', 'CSP48', 'CSP6', 'CSP66', 'CSP1',\n",
              "       'CSP46', 'CSP21', 'CSP47', 'CSP42', 'CSP37', 'CSP22', 'CSP3',\n",
              "       'CSP49', 'CSP20', 'CSP2', 'CSP40', 'CSP7', 'CSP26', 'CSP65',\n",
              "       'CSP41', 'CSP17', 'CSP57', 'CSP56', 'CSP38', 'CSP51', 'CSP59',\n",
              "       'CSP30', 'CSP44', 'CSP61', 'CSP63', 'CSP45', 'CSP16', 'CSP43',\n",
              "       'CSP39', 'CSP5', 'CSP32', 'CSP35', 'CSP73', 'CSP62', 'CSP52',\n",
              "       'CSP27', 'CSP24', 'CSP19', 'CSP70'], dtype=object)"
            ]
          },
          "metadata": {
            "tags": []
          },
          "execution_count": 512
        }
      ]
    },
    {
      "cell_type": "code",
      "metadata": {
        "id": "AQKq5WAiKWE5",
        "colab_type": "code",
        "colab": {}
      },
      "source": [
        "df['SocioCateg'] = df.SocioCateg.str.slice(0,4)"
      ],
      "execution_count": 0,
      "outputs": []
    },
    {
      "cell_type": "code",
      "metadata": {
        "id": "fHFXPmdKKWH6",
        "colab_type": "code",
        "colab": {
          "base_uri": "https://localhost:8080/",
          "height": 266
        },
        "outputId": "1f69d04a-ee14-4e33-c13b-b4987f230b53"
      },
      "source": [
        "pd.DataFrame(df.SocioCateg.value_counts().sort_values()).rename({'SocioCateg': 'Frequency'}, axis=1)"
      ],
      "execution_count": 514,
      "outputs": [
        {
          "output_type": "execute_result",
          "data": {
            "text/html": [
              "<div>\n",
              "<style scoped>\n",
              "    .dataframe tbody tr th:only-of-type {\n",
              "        vertical-align: middle;\n",
              "    }\n",
              "\n",
              "    .dataframe tbody tr th {\n",
              "        vertical-align: top;\n",
              "    }\n",
              "\n",
              "    .dataframe thead th {\n",
              "        text-align: right;\n",
              "    }\n",
              "</style>\n",
              "<table border=\"1\" class=\"dataframe\">\n",
              "  <thead>\n",
              "    <tr style=\"text-align: right;\">\n",
              "      <th></th>\n",
              "      <th>Frequency</th>\n",
              "    </tr>\n",
              "  </thead>\n",
              "  <tbody>\n",
              "    <tr>\n",
              "      <th>CSP7</th>\n",
              "      <td>14</td>\n",
              "    </tr>\n",
              "    <tr>\n",
              "      <th>CSP3</th>\n",
              "      <td>1210</td>\n",
              "    </tr>\n",
              "    <tr>\n",
              "      <th>CSP1</th>\n",
              "      <td>2740</td>\n",
              "    </tr>\n",
              "    <tr>\n",
              "      <th>CSP2</th>\n",
              "      <td>3254</td>\n",
              "    </tr>\n",
              "    <tr>\n",
              "      <th>CSP4</th>\n",
              "      <td>7648</td>\n",
              "    </tr>\n",
              "    <tr>\n",
              "      <th>CSP6</th>\n",
              "      <td>24833</td>\n",
              "    </tr>\n",
              "    <tr>\n",
              "      <th>CSP5</th>\n",
              "      <td>75456</td>\n",
              "    </tr>\n",
              "  </tbody>\n",
              "</table>\n",
              "</div>"
            ],
            "text/plain": [
              "      Frequency\n",
              "CSP7         14\n",
              "CSP3       1210\n",
              "CSP1       2740\n",
              "CSP2       3254\n",
              "CSP4       7648\n",
              "CSP6      24833\n",
              "CSP5      75456"
            ]
          },
          "metadata": {
            "tags": []
          },
          "execution_count": 514
        }
      ]
    },
    {
      "cell_type": "code",
      "metadata": {
        "id": "rGhBjV9FKWMx",
        "colab_type": "code",
        "colab": {}
      },
      "source": [
        "df = pd.get_dummies(df, columns=['VehUsage','SocioCateg'])"
      ],
      "execution_count": 0,
      "outputs": []
    },
    {
      "cell_type": "markdown",
      "metadata": {
        "id": "sDnvxmqiK3P2",
        "colab_type": "text"
      },
      "source": [
        "Теперь, когда большинство переменных типа object обработаны, исключим их из набора данных за ненадобностью."
      ]
    },
    {
      "cell_type": "code",
      "metadata": {
        "id": "9VbL7D7GKWPk",
        "colab_type": "code",
        "colab": {}
      },
      "source": [
        "df = df.select_dtypes(exclude=['object'])"
      ],
      "execution_count": 0,
      "outputs": []
    },
    {
      "cell_type": "markdown",
      "metadata": {
        "id": "NRfBLRz4LEC4",
        "colab_type": "text"
      },
      "source": [
        "Также создадим такую переменную, как квадрат возраста, а также квадраты некоторых других переменных."
      ]
    },
    {
      "cell_type": "code",
      "metadata": {
        "id": "9NQNlPvzKubG",
        "colab_type": "code",
        "colab": {
          "base_uri": "https://localhost:8080/",
          "height": 241
        },
        "outputId": "be344eca-8ce9-4316-a747-1930da0345ee"
      },
      "source": [
        "df['DrivAgeSq'] = df.DrivAge.apply(lambda x: x**2)\n",
        "df['LicAgeSq'] = df.LicAge.apply(lambda x: x**2)\n",
        "df['BonusMalusSq'] = df.BonusMalus.apply(lambda x: x**2)\n",
        "df.head()"
      ],
      "execution_count": 517,
      "outputs": [
        {
          "output_type": "execute_result",
          "data": {
            "text/html": [
              "<div>\n",
              "<style scoped>\n",
              "    .dataframe tbody tr th:only-of-type {\n",
              "        vertical-align: middle;\n",
              "    }\n",
              "\n",
              "    .dataframe tbody tr th {\n",
              "        vertical-align: top;\n",
              "    }\n",
              "\n",
              "    .dataframe thead th {\n",
              "        text-align: right;\n",
              "    }\n",
              "</style>\n",
              "<table border=\"1\" class=\"dataframe\">\n",
              "  <thead>\n",
              "    <tr style=\"text-align: right;\">\n",
              "      <th></th>\n",
              "      <th>Exposure</th>\n",
              "      <th>LicAge</th>\n",
              "      <th>Gender</th>\n",
              "      <th>MariStat</th>\n",
              "      <th>DrivAge</th>\n",
              "      <th>HasKmLimit</th>\n",
              "      <th>BonusMalus</th>\n",
              "      <th>ClaimAmount</th>\n",
              "      <th>ClaimInd</th>\n",
              "      <th>ClaimNbResp</th>\n",
              "      <th>ClaimNbNonResp</th>\n",
              "      <th>ClaimNbParking</th>\n",
              "      <th>ClaimNbFireTheft</th>\n",
              "      <th>ClaimNbWindscreen</th>\n",
              "      <th>OutUseNb</th>\n",
              "      <th>RiskArea</th>\n",
              "      <th>VehUsage_Private</th>\n",
              "      <th>VehUsage_Private+trip to office</th>\n",
              "      <th>VehUsage_Professional</th>\n",
              "      <th>VehUsage_Professional run</th>\n",
              "      <th>SocioCateg_CSP1</th>\n",
              "      <th>SocioCateg_CSP2</th>\n",
              "      <th>SocioCateg_CSP3</th>\n",
              "      <th>SocioCateg_CSP4</th>\n",
              "      <th>SocioCateg_CSP5</th>\n",
              "      <th>SocioCateg_CSP6</th>\n",
              "      <th>SocioCateg_CSP7</th>\n",
              "      <th>DrivAgeSq</th>\n",
              "      <th>LicAgeSq</th>\n",
              "      <th>BonusMalusSq</th>\n",
              "    </tr>\n",
              "  </thead>\n",
              "  <tbody>\n",
              "    <tr>\n",
              "      <th>0</th>\n",
              "      <td>0.083</td>\n",
              "      <td>332</td>\n",
              "      <td>0</td>\n",
              "      <td>0</td>\n",
              "      <td>46</td>\n",
              "      <td>0</td>\n",
              "      <td>50</td>\n",
              "      <td>0.0</td>\n",
              "      <td>0</td>\n",
              "      <td>0.0</td>\n",
              "      <td>1.0</td>\n",
              "      <td>0.0</td>\n",
              "      <td>0.0</td>\n",
              "      <td>0.0</td>\n",
              "      <td>0.0</td>\n",
              "      <td>9.0</td>\n",
              "      <td>0</td>\n",
              "      <td>0</td>\n",
              "      <td>1</td>\n",
              "      <td>0</td>\n",
              "      <td>0</td>\n",
              "      <td>0</td>\n",
              "      <td>0</td>\n",
              "      <td>0</td>\n",
              "      <td>1</td>\n",
              "      <td>0</td>\n",
              "      <td>0</td>\n",
              "      <td>2116</td>\n",
              "      <td>110224</td>\n",
              "      <td>2500</td>\n",
              "    </tr>\n",
              "    <tr>\n",
              "      <th>1</th>\n",
              "      <td>0.916</td>\n",
              "      <td>333</td>\n",
              "      <td>0</td>\n",
              "      <td>0</td>\n",
              "      <td>46</td>\n",
              "      <td>0</td>\n",
              "      <td>50</td>\n",
              "      <td>0.0</td>\n",
              "      <td>0</td>\n",
              "      <td>0.0</td>\n",
              "      <td>1.0</td>\n",
              "      <td>0.0</td>\n",
              "      <td>0.0</td>\n",
              "      <td>0.0</td>\n",
              "      <td>0.0</td>\n",
              "      <td>9.0</td>\n",
              "      <td>0</td>\n",
              "      <td>0</td>\n",
              "      <td>1</td>\n",
              "      <td>0</td>\n",
              "      <td>0</td>\n",
              "      <td>0</td>\n",
              "      <td>0</td>\n",
              "      <td>0</td>\n",
              "      <td>1</td>\n",
              "      <td>0</td>\n",
              "      <td>0</td>\n",
              "      <td>2116</td>\n",
              "      <td>110889</td>\n",
              "      <td>2500</td>\n",
              "    </tr>\n",
              "    <tr>\n",
              "      <th>2</th>\n",
              "      <td>0.550</td>\n",
              "      <td>173</td>\n",
              "      <td>0</td>\n",
              "      <td>0</td>\n",
              "      <td>32</td>\n",
              "      <td>0</td>\n",
              "      <td>68</td>\n",
              "      <td>0.0</td>\n",
              "      <td>0</td>\n",
              "      <td>0.0</td>\n",
              "      <td>2.0</td>\n",
              "      <td>0.0</td>\n",
              "      <td>0.0</td>\n",
              "      <td>0.0</td>\n",
              "      <td>0.0</td>\n",
              "      <td>7.0</td>\n",
              "      <td>0</td>\n",
              "      <td>1</td>\n",
              "      <td>0</td>\n",
              "      <td>0</td>\n",
              "      <td>0</td>\n",
              "      <td>0</td>\n",
              "      <td>0</td>\n",
              "      <td>0</td>\n",
              "      <td>1</td>\n",
              "      <td>0</td>\n",
              "      <td>0</td>\n",
              "      <td>1024</td>\n",
              "      <td>29929</td>\n",
              "      <td>4624</td>\n",
              "    </tr>\n",
              "    <tr>\n",
              "      <th>3</th>\n",
              "      <td>0.089</td>\n",
              "      <td>364</td>\n",
              "      <td>1</td>\n",
              "      <td>0</td>\n",
              "      <td>52</td>\n",
              "      <td>0</td>\n",
              "      <td>50</td>\n",
              "      <td>0.0</td>\n",
              "      <td>0</td>\n",
              "      <td>0.0</td>\n",
              "      <td>0.0</td>\n",
              "      <td>0.0</td>\n",
              "      <td>0.0</td>\n",
              "      <td>0.0</td>\n",
              "      <td>0.0</td>\n",
              "      <td>8.0</td>\n",
              "      <td>0</td>\n",
              "      <td>1</td>\n",
              "      <td>0</td>\n",
              "      <td>0</td>\n",
              "      <td>0</td>\n",
              "      <td>0</td>\n",
              "      <td>0</td>\n",
              "      <td>0</td>\n",
              "      <td>1</td>\n",
              "      <td>0</td>\n",
              "      <td>0</td>\n",
              "      <td>2704</td>\n",
              "      <td>132496</td>\n",
              "      <td>2500</td>\n",
              "    </tr>\n",
              "    <tr>\n",
              "      <th>4</th>\n",
              "      <td>0.233</td>\n",
              "      <td>426</td>\n",
              "      <td>0</td>\n",
              "      <td>0</td>\n",
              "      <td>57</td>\n",
              "      <td>0</td>\n",
              "      <td>50</td>\n",
              "      <td>0.0</td>\n",
              "      <td>0</td>\n",
              "      <td>0.0</td>\n",
              "      <td>0.0</td>\n",
              "      <td>0.0</td>\n",
              "      <td>0.0</td>\n",
              "      <td>0.0</td>\n",
              "      <td>0.0</td>\n",
              "      <td>7.0</td>\n",
              "      <td>1</td>\n",
              "      <td>0</td>\n",
              "      <td>0</td>\n",
              "      <td>0</td>\n",
              "      <td>0</td>\n",
              "      <td>0</td>\n",
              "      <td>0</td>\n",
              "      <td>0</td>\n",
              "      <td>0</td>\n",
              "      <td>1</td>\n",
              "      <td>0</td>\n",
              "      <td>3249</td>\n",
              "      <td>181476</td>\n",
              "      <td>2500</td>\n",
              "    </tr>\n",
              "  </tbody>\n",
              "</table>\n",
              "</div>"
            ],
            "text/plain": [
              "   Exposure  LicAge  Gender  ...  DrivAgeSq  LicAgeSq  BonusMalusSq\n",
              "0     0.083     332       0  ...       2116    110224          2500\n",
              "1     0.916     333       0  ...       2116    110889          2500\n",
              "2     0.550     173       0  ...       1024     29929          4624\n",
              "3     0.089     364       1  ...       2704    132496          2500\n",
              "4     0.233     426       0  ...       3249    181476          2500\n",
              "\n",
              "[5 rows x 30 columns]"
            ]
          },
          "metadata": {
            "tags": []
          },
          "execution_count": 517
        }
      ]
    },
    {
      "cell_type": "code",
      "metadata": {
        "id": "dQTuCBrRIvdB",
        "colab_type": "code",
        "colab": {}
      },
      "source": [
        "# !apt-get install default-jre"
      ],
      "execution_count": 0,
      "outputs": []
    },
    {
      "cell_type": "code",
      "metadata": {
        "id": "PmtwreDTIvfj",
        "colab_type": "code",
        "colab": {}
      },
      "source": [
        "# !java -version"
      ],
      "execution_count": 0,
      "outputs": []
    },
    {
      "cell_type": "code",
      "metadata": {
        "id": "30I_rWrJIviN",
        "colab_type": "code",
        "colab": {}
      },
      "source": [
        "# !pip install h2o"
      ],
      "execution_count": 0,
      "outputs": []
    },
    {
      "cell_type": "code",
      "metadata": {
        "id": "gs1j4r5VIhBH",
        "colab_type": "code",
        "colab": {
          "base_uri": "https://localhost:8080/",
          "height": 389
        },
        "outputId": "e0b2e23c-c980-45d0-fa68-9c225a0202a4"
      },
      "source": [
        "import h2o\n",
        "from h2o.estimators.glm import H2OGeneralizedLinearEstimator\n",
        "h2o.init()"
      ],
      "execution_count": 521,
      "outputs": [
        {
          "output_type": "stream",
          "text": [
            "Checking whether there is an H2O instance running at http://localhost:54321 . connected.\n"
          ],
          "name": "stdout"
        },
        {
          "output_type": "display_data",
          "data": {
            "text/html": [
              "<div style=\"overflow:auto\"><table style=\"width:50%\"><tr><td>H2O_cluster_uptime:</td>\n",
              "<td>1 hour 54 mins</td></tr>\n",
              "<tr><td>H2O_cluster_timezone:</td>\n",
              "<td>Etc/UTC</td></tr>\n",
              "<tr><td>H2O_data_parsing_timezone:</td>\n",
              "<td>UTC</td></tr>\n",
              "<tr><td>H2O_cluster_version:</td>\n",
              "<td>3.30.0.2</td></tr>\n",
              "<tr><td>H2O_cluster_version_age:</td>\n",
              "<td>5 days </td></tr>\n",
              "<tr><td>H2O_cluster_name:</td>\n",
              "<td>H2O_from_python_unknownUser_2bnh5m</td></tr>\n",
              "<tr><td>H2O_cluster_total_nodes:</td>\n",
              "<td>1</td></tr>\n",
              "<tr><td>H2O_cluster_free_memory:</td>\n",
              "<td>3.070 Gb</td></tr>\n",
              "<tr><td>H2O_cluster_total_cores:</td>\n",
              "<td>2</td></tr>\n",
              "<tr><td>H2O_cluster_allowed_cores:</td>\n",
              "<td>2</td></tr>\n",
              "<tr><td>H2O_cluster_status:</td>\n",
              "<td>locked, healthy</td></tr>\n",
              "<tr><td>H2O_connection_url:</td>\n",
              "<td>http://localhost:54321</td></tr>\n",
              "<tr><td>H2O_connection_proxy:</td>\n",
              "<td>{\"http\": null, \"https\": null}</td></tr>\n",
              "<tr><td>H2O_internal_security:</td>\n",
              "<td>False</td></tr>\n",
              "<tr><td>H2O_API_Extensions:</td>\n",
              "<td>Amazon S3, XGBoost, Algos, AutoML, Core V3, TargetEncoder, Core V4</td></tr>\n",
              "<tr><td>Python_version:</td>\n",
              "<td>3.6.9 final</td></tr></table></div>"
            ],
            "text/plain": [
              "--------------------------  ------------------------------------------------------------------\n",
              "H2O_cluster_uptime:         1 hour 54 mins\n",
              "H2O_cluster_timezone:       Etc/UTC\n",
              "H2O_data_parsing_timezone:  UTC\n",
              "H2O_cluster_version:        3.30.0.2\n",
              "H2O_cluster_version_age:    5 days\n",
              "H2O_cluster_name:           H2O_from_python_unknownUser_2bnh5m\n",
              "H2O_cluster_total_nodes:    1\n",
              "H2O_cluster_free_memory:    3.070 Gb\n",
              "H2O_cluster_total_cores:    2\n",
              "H2O_cluster_allowed_cores:  2\n",
              "H2O_cluster_status:         locked, healthy\n",
              "H2O_connection_url:         http://localhost:54321\n",
              "H2O_connection_proxy:       {\"http\": null, \"https\": null}\n",
              "H2O_internal_security:      False\n",
              "H2O_API_Extensions:         Amazon S3, XGBoost, Algos, AutoML, Core V3, TargetEncoder, Core V4\n",
              "Python_version:             3.6.9 final\n",
              "--------------------------  ------------------------------------------------------------------"
            ]
          },
          "metadata": {
            "tags": []
          }
        }
      ]
    },
    {
      "cell_type": "code",
      "metadata": {
        "id": "vZZvYVoyF00W",
        "colab_type": "code",
        "colab": {}
      },
      "source": [
        "from sklearn.model_selection import train_test_split"
      ],
      "execution_count": 0,
      "outputs": []
    },
    {
      "cell_type": "code",
      "metadata": {
        "id": "aap468M7F03D",
        "colab_type": "code",
        "colab": {}
      },
      "source": [
        "# Разбиение датасета на train/val/test\n",
        "\n",
        "x_train_ind, x_test_ind, y_train_ind, y_test_ind = train_test_split(df.drop(['ClaimInd', 'ClaimAmount'], axis=1), df.ClaimInd, test_size=0.3, random_state=1)\n",
        "x_valid_ind, x_test_ind, y_valid_ind, y_test_ind = train_test_split(x_test_ind, y_test_ind, test_size=0.5, random_state=1)"
      ],
      "execution_count": 0,
      "outputs": []
    },
    {
      "cell_type": "code",
      "metadata": {
        "id": "1jP5YrxnD6uC",
        "colab_type": "code",
        "colab": {
          "base_uri": "https://localhost:8080/",
          "height": 68
        },
        "outputId": "5b178d9d-7204-4eab-86f7-6fb4c2cdfa5c"
      },
      "source": [
        "# Преобразование в H2O-Frame\n",
        "\n",
        "h2o_train_ind = h2o.H2OFrame(pd.concat([x_train_ind, y_train_ind], axis=1))\n",
        "h2o_valid_ind = h2o.H2OFrame(pd.concat([x_valid_ind, y_valid_ind], axis=1))\n",
        "h2o_test_ind = h2o.H2OFrame(pd.concat([x_test_ind, y_test_ind], axis=1))"
      ],
      "execution_count": 524,
      "outputs": [
        {
          "output_type": "stream",
          "text": [
            "Parse progress: |█████████████████████████████████████████████████████████| 100%\n",
            "Parse progress: |█████████████████████████████████████████████████████████| 100%\n",
            "Parse progress: |█████████████████████████████████████████████████████████| 100%\n"
          ],
          "name": "stdout"
        }
      ]
    },
    {
      "cell_type": "code",
      "metadata": {
        "id": "cjDdP0LgF6kY",
        "colab_type": "code",
        "colab": {}
      },
      "source": [
        "# Преобразуем целевую переменную ClaimInd в категориальную при помощи метода asfactor во всех наборах данных\n",
        "\n",
        "h2o_train_ind['ClaimInd'] = h2o_train_ind['ClaimInd'].asfactor()\n",
        "h2o_valid_ind['ClaimInd'] = h2o_valid_ind['ClaimInd'].asfactor()\n",
        "h2o_test_ind['ClaimInd'] = h2o_test_ind['ClaimInd'].asfactor()"
      ],
      "execution_count": 0,
      "outputs": []
    },
    {
      "cell_type": "code",
      "metadata": {
        "id": "TbKxBLPhF8r-",
        "colab_type": "code",
        "colab": {
          "base_uri": "https://localhost:8080/",
          "height": 34
        },
        "outputId": "d5cb8865-100f-413b-c4a6-b50da9ef539d"
      },
      "source": [
        "# Инициализируем и обучим GLM модель c кросс-валидацией\n",
        "\n",
        "glm_poisson = H2OGeneralizedLinearEstimator(family = \"binomial\", lambda_=0.0001, nfolds=5)\n",
        "glm_poisson.train(y=\"ClaimInd\", x = h2o_train_ind.names[1:-1], training_frame = h2o_train_ind, validation_frame = h2o_valid_ind, weights_column = \"Exposure\")"
      ],
      "execution_count": 526,
      "outputs": [
        {
          "output_type": "stream",
          "text": [
            "glm Model Build progress: |███████████████████████████████████████████████| 100%\n"
          ],
          "name": "stdout"
        }
      ]
    },
    {
      "cell_type": "code",
      "metadata": {
        "id": "-BlboEzQF-4v",
        "colab_type": "code",
        "colab": {
          "base_uri": "https://localhost:8080/",
          "height": 114
        },
        "outputId": "61c0c68b-6a34-446e-cf66-77ab297fd3d6"
      },
      "source": [
        "# Параметры модели: распределение, функция связи, гиперпараметры регуляризации, количество использованных объясняющих переменных\n",
        "\n",
        "glm_poisson.summary()"
      ],
      "execution_count": 527,
      "outputs": [
        {
          "output_type": "stream",
          "text": [
            "\n",
            "GLM Model: summary\n"
          ],
          "name": "stdout"
        },
        {
          "output_type": "display_data",
          "data": {
            "text/html": [
              "<div>\n",
              "<style scoped>\n",
              "    .dataframe tbody tr th:only-of-type {\n",
              "        vertical-align: middle;\n",
              "    }\n",
              "\n",
              "    .dataframe tbody tr th {\n",
              "        vertical-align: top;\n",
              "    }\n",
              "\n",
              "    .dataframe thead th {\n",
              "        text-align: right;\n",
              "    }\n",
              "</style>\n",
              "<table border=\"1\" class=\"dataframe\">\n",
              "  <thead>\n",
              "    <tr style=\"text-align: right;\">\n",
              "      <th></th>\n",
              "      <th></th>\n",
              "      <th>family</th>\n",
              "      <th>link</th>\n",
              "      <th>regularization</th>\n",
              "      <th>number_of_predictors_total</th>\n",
              "      <th>number_of_active_predictors</th>\n",
              "      <th>number_of_iterations</th>\n",
              "      <th>training_frame</th>\n",
              "    </tr>\n",
              "  </thead>\n",
              "  <tbody>\n",
              "    <tr>\n",
              "      <th>0</th>\n",
              "      <td></td>\n",
              "      <td>binomial</td>\n",
              "      <td>logit</td>\n",
              "      <td>Elastic Net (alpha = 0.5, lambda = 1.0E-4 )</td>\n",
              "      <td>27</td>\n",
              "      <td>25</td>\n",
              "      <td>3</td>\n",
              "      <td>py_25_sid_9d65</td>\n",
              "    </tr>\n",
              "  </tbody>\n",
              "</table>\n",
              "</div>"
            ],
            "text/plain": [
              "       family  ... number_of_iterations  training_frame\n",
              "0    binomial  ...                    3  py_25_sid_9d65\n",
              "\n",
              "[1 rows x 8 columns]"
            ]
          },
          "metadata": {
            "tags": []
          }
        },
        {
          "output_type": "execute_result",
          "data": {
            "text/plain": [
              ""
            ]
          },
          "metadata": {
            "tags": []
          },
          "execution_count": 527
        }
      ]
    },
    {
      "cell_type": "code",
      "metadata": {
        "id": "WYUFbm6aGAoo",
        "colab_type": "code",
        "colab": {
          "base_uri": "https://localhost:8080/",
          "height": 762
        },
        "outputId": "36ab4d9d-17f4-4862-da51-f423440ef398"
      },
      "source": [
        "# Метрики качества модели - по всем данным и на кросс-валидации\n",
        "\n",
        "glm_poisson.cross_validation_metrics_summary().as_data_frame()"
      ],
      "execution_count": 528,
      "outputs": [
        {
          "output_type": "execute_result",
          "data": {
            "text/html": [
              "<div>\n",
              "<style scoped>\n",
              "    .dataframe tbody tr th:only-of-type {\n",
              "        vertical-align: middle;\n",
              "    }\n",
              "\n",
              "    .dataframe tbody tr th {\n",
              "        vertical-align: top;\n",
              "    }\n",
              "\n",
              "    .dataframe thead th {\n",
              "        text-align: right;\n",
              "    }\n",
              "</style>\n",
              "<table border=\"1\" class=\"dataframe\">\n",
              "  <thead>\n",
              "    <tr style=\"text-align: right;\">\n",
              "      <th></th>\n",
              "      <th></th>\n",
              "      <th>mean</th>\n",
              "      <th>sd</th>\n",
              "      <th>cv_1_valid</th>\n",
              "      <th>cv_2_valid</th>\n",
              "      <th>cv_3_valid</th>\n",
              "      <th>cv_4_valid</th>\n",
              "      <th>cv_5_valid</th>\n",
              "    </tr>\n",
              "  </thead>\n",
              "  <tbody>\n",
              "    <tr>\n",
              "      <th>0</th>\n",
              "      <td>accuracy</td>\n",
              "      <td>0.48841798</td>\n",
              "      <td>0.08422018</td>\n",
              "      <td>0.57595134</td>\n",
              "      <td>0.3614605</td>\n",
              "      <td>0.45790386</td>\n",
              "      <td>0.49873888</td>\n",
              "      <td>0.5480353</td>\n",
              "    </tr>\n",
              "    <tr>\n",
              "      <th>1</th>\n",
              "      <td>auc</td>\n",
              "      <td>0.5788966</td>\n",
              "      <td>0.011701856</td>\n",
              "      <td>0.5861915</td>\n",
              "      <td>0.56863815</td>\n",
              "      <td>0.5646088</td>\n",
              "      <td>0.5917847</td>\n",
              "      <td>0.5832597</td>\n",
              "    </tr>\n",
              "    <tr>\n",
              "      <th>2</th>\n",
              "      <td>aucpr</td>\n",
              "      <td>0.16080387</td>\n",
              "      <td>0.0076874658</td>\n",
              "      <td>0.16110548</td>\n",
              "      <td>0.17065667</td>\n",
              "      <td>0.14938235</td>\n",
              "      <td>0.1634332</td>\n",
              "      <td>0.1594417</td>\n",
              "    </tr>\n",
              "    <tr>\n",
              "      <th>3</th>\n",
              "      <td>err</td>\n",
              "      <td>0.511582</td>\n",
              "      <td>0.08422018</td>\n",
              "      <td>0.42404866</td>\n",
              "      <td>0.6385395</td>\n",
              "      <td>0.54209614</td>\n",
              "      <td>0.5012611</td>\n",
              "      <td>0.45196468</td>\n",
              "    </tr>\n",
              "    <tr>\n",
              "      <th>4</th>\n",
              "      <td>err_count</td>\n",
              "      <td>3648.308</td>\n",
              "      <td>603.45685</td>\n",
              "      <td>3032.296</td>\n",
              "      <td>4556.351</td>\n",
              "      <td>3862.79</td>\n",
              "      <td>3592.975</td>\n",
              "      <td>3197.128</td>\n",
              "    </tr>\n",
              "    <tr>\n",
              "      <th>5</th>\n",
              "      <td>f0point5</td>\n",
              "      <td>0.1812863</td>\n",
              "      <td>0.004204574</td>\n",
              "      <td>0.1868524</td>\n",
              "      <td>0.17949069</td>\n",
              "      <td>0.17664346</td>\n",
              "      <td>0.18442172</td>\n",
              "      <td>0.17902327</td>\n",
              "    </tr>\n",
              "    <tr>\n",
              "      <th>6</th>\n",
              "      <td>f1</td>\n",
              "      <td>0.24827935</td>\n",
              "      <td>0.0048188376</td>\n",
              "      <td>0.2485463</td>\n",
              "      <td>0.25281283</td>\n",
              "      <td>0.24471034</td>\n",
              "      <td>0.25308418</td>\n",
              "      <td>0.24224308</td>\n",
              "    </tr>\n",
              "    <tr>\n",
              "      <th>7</th>\n",
              "      <td>f2</td>\n",
              "      <td>0.39485633</td>\n",
              "      <td>0.023027593</td>\n",
              "      <td>0.37106133</td>\n",
              "      <td>0.42741057</td>\n",
              "      <td>0.39811972</td>\n",
              "      <td>0.4032008</td>\n",
              "      <td>0.37448922</td>\n",
              "    </tr>\n",
              "    <tr>\n",
              "      <th>8</th>\n",
              "      <td>lift_top_group</td>\n",
              "      <td>0.0</td>\n",
              "      <td>0.0</td>\n",
              "      <td>0.0</td>\n",
              "      <td>0.0</td>\n",
              "      <td>0.0</td>\n",
              "      <td>0.0</td>\n",
              "      <td>0.0</td>\n",
              "    </tr>\n",
              "    <tr>\n",
              "      <th>9</th>\n",
              "      <td>logloss</td>\n",
              "      <td>0.3791118</td>\n",
              "      <td>0.010225499</td>\n",
              "      <td>0.37536094</td>\n",
              "      <td>0.3953337</td>\n",
              "      <td>0.3812357</td>\n",
              "      <td>0.3756878</td>\n",
              "      <td>0.36794087</td>\n",
              "    </tr>\n",
              "    <tr>\n",
              "      <th>10</th>\n",
              "      <td>max_per_class_error</td>\n",
              "      <td>0.54254496</td>\n",
              "      <td>0.105509326</td>\n",
              "      <td>0.44731754</td>\n",
              "      <td>0.7065445</td>\n",
              "      <td>0.5753983</td>\n",
              "      <td>0.52580214</td>\n",
              "      <td>0.45766222</td>\n",
              "    </tr>\n",
              "    <tr>\n",
              "      <th>11</th>\n",
              "      <td>mcc</td>\n",
              "      <td>0.081657</td>\n",
              "      <td>0.011846567</td>\n",
              "      <td>0.088578075</td>\n",
              "      <td>0.06527303</td>\n",
              "      <td>0.073833734</td>\n",
              "      <td>0.09444858</td>\n",
              "      <td>0.08615156</td>\n",
              "    </tr>\n",
              "    <tr>\n",
              "      <th>12</th>\n",
              "      <td>mean_per_class_accuracy</td>\n",
              "      <td>0.559839</td>\n",
              "      <td>0.011263213</td>\n",
              "      <td>0.5660077</td>\n",
              "      <td>0.5427816</td>\n",
              "      <td>0.5542897</td>\n",
              "      <td>0.5705612</td>\n",
              "      <td>0.565555</td>\n",
              "    </tr>\n",
              "    <tr>\n",
              "      <th>13</th>\n",
              "      <td>mean_per_class_error</td>\n",
              "      <td>0.44016096</td>\n",
              "      <td>0.011263213</td>\n",
              "      <td>0.4339923</td>\n",
              "      <td>0.45721838</td>\n",
              "      <td>0.4457103</td>\n",
              "      <td>0.4294388</td>\n",
              "      <td>0.43444502</td>\n",
              "    </tr>\n",
              "    <tr>\n",
              "      <th>14</th>\n",
              "      <td>mse</td>\n",
              "      <td>0.110985845</td>\n",
              "      <td>0.0038023507</td>\n",
              "      <td>0.1097308</td>\n",
              "      <td>0.11702568</td>\n",
              "      <td>0.111539446</td>\n",
              "      <td>0.109932326</td>\n",
              "      <td>0.10670095</td>\n",
              "    </tr>\n",
              "    <tr>\n",
              "      <th>15</th>\n",
              "      <td>null_deviance</td>\n",
              "      <td>5466.1875</td>\n",
              "      <td>149.76727</td>\n",
              "      <td>5440.912</td>\n",
              "      <td>5691.0503</td>\n",
              "      <td>5462.8325</td>\n",
              "      <td>5466.188</td>\n",
              "      <td>5269.9536</td>\n",
              "    </tr>\n",
              "    <tr>\n",
              "      <th>16</th>\n",
              "      <td>pr_auc</td>\n",
              "      <td>0.16080387</td>\n",
              "      <td>0.0076874658</td>\n",
              "      <td>0.16110548</td>\n",
              "      <td>0.17065667</td>\n",
              "      <td>0.14938235</td>\n",
              "      <td>0.1634332</td>\n",
              "      <td>0.1594417</td>\n",
              "    </tr>\n",
              "    <tr>\n",
              "      <th>17</th>\n",
              "      <td>precision</td>\n",
              "      <td>0.15368192</td>\n",
              "      <td>0.004589379</td>\n",
              "      <td>0.16032237</td>\n",
              "      <td>0.15040906</td>\n",
              "      <td>0.14901148</td>\n",
              "      <td>0.15617463</td>\n",
              "      <td>0.15249203</td>\n",
              "    </tr>\n",
              "    <tr>\n",
              "      <th>18</th>\n",
              "      <td>r2</td>\n",
              "      <td>0.0077393115</td>\n",
              "      <td>0.002939642</td>\n",
              "      <td>0.009526838</td>\n",
              "      <td>0.006394311</td>\n",
              "      <td>0.0032989695</td>\n",
              "      <td>0.010700975</td>\n",
              "      <td>0.008775464</td>\n",
              "    </tr>\n",
              "    <tr>\n",
              "      <th>19</th>\n",
              "      <td>recall</td>\n",
              "      <td>0.6568929</td>\n",
              "      <td>0.09302893</td>\n",
              "      <td>0.55268246</td>\n",
              "      <td>0.79210776</td>\n",
              "      <td>0.6839777</td>\n",
              "      <td>0.6669245</td>\n",
              "      <td>0.5887722</td>\n",
              "    </tr>\n",
              "    <tr>\n",
              "      <th>20</th>\n",
              "      <td>residual_deviance</td>\n",
              "      <td>5406.9067</td>\n",
              "      <td>156.83887</td>\n",
              "      <td>5368.2773</td>\n",
              "      <td>5641.872</td>\n",
              "      <td>5433.108</td>\n",
              "      <td>5385.7637</td>\n",
              "      <td>5205.5137</td>\n",
              "    </tr>\n",
              "    <tr>\n",
              "      <th>21</th>\n",
              "      <td>rmse</td>\n",
              "      <td>0.33310667</td>\n",
              "      <td>0.005677723</td>\n",
              "      <td>0.33125642</td>\n",
              "      <td>0.34209016</td>\n",
              "      <td>0.33397523</td>\n",
              "      <td>0.33156043</td>\n",
              "      <td>0.3266511</td>\n",
              "    </tr>\n",
              "    <tr>\n",
              "      <th>22</th>\n",
              "      <td>specificity</td>\n",
              "      <td>0.46278515</td>\n",
              "      <td>0.111996405</td>\n",
              "      <td>0.57933295</td>\n",
              "      <td>0.29345545</td>\n",
              "      <td>0.42460167</td>\n",
              "      <td>0.47419786</td>\n",
              "      <td>0.5423378</td>\n",
              "    </tr>\n",
              "  </tbody>\n",
              "</table>\n",
              "</div>"
            ],
            "text/plain": [
              "                                     mean  ...   cv_4_valid   cv_5_valid\n",
              "0                  accuracy    0.48841798  ...   0.49873888    0.5480353\n",
              "1                       auc     0.5788966  ...    0.5917847    0.5832597\n",
              "2                     aucpr    0.16080387  ...    0.1634332    0.1594417\n",
              "3                       err      0.511582  ...    0.5012611   0.45196468\n",
              "4                 err_count      3648.308  ...     3592.975     3197.128\n",
              "5                  f0point5     0.1812863  ...   0.18442172   0.17902327\n",
              "6                        f1    0.24827935  ...   0.25308418   0.24224308\n",
              "7                        f2    0.39485633  ...    0.4032008   0.37448922\n",
              "8            lift_top_group           0.0  ...          0.0          0.0\n",
              "9                   logloss     0.3791118  ...    0.3756878   0.36794087\n",
              "10      max_per_class_error    0.54254496  ...   0.52580214   0.45766222\n",
              "11                      mcc      0.081657  ...   0.09444858   0.08615156\n",
              "12  mean_per_class_accuracy      0.559839  ...    0.5705612     0.565555\n",
              "13     mean_per_class_error    0.44016096  ...    0.4294388   0.43444502\n",
              "14                      mse   0.110985845  ...  0.109932326   0.10670095\n",
              "15            null_deviance     5466.1875  ...     5466.188    5269.9536\n",
              "16                   pr_auc    0.16080387  ...    0.1634332    0.1594417\n",
              "17                precision    0.15368192  ...   0.15617463   0.15249203\n",
              "18                       r2  0.0077393115  ...  0.010700975  0.008775464\n",
              "19                   recall     0.6568929  ...    0.6669245    0.5887722\n",
              "20        residual_deviance     5406.9067  ...    5385.7637    5205.5137\n",
              "21                     rmse    0.33310667  ...   0.33156043    0.3266511\n",
              "22              specificity    0.46278515  ...   0.47419786    0.5423378\n",
              "\n",
              "[23 rows x 8 columns]"
            ]
          },
          "metadata": {
            "tags": []
          },
          "execution_count": 528
        }
      ]
    },
    {
      "cell_type": "code",
      "metadata": {
        "id": "Auhnfuc_GDhX",
        "colab_type": "code",
        "colab": {
          "base_uri": "https://localhost:8080/",
          "height": 917
        },
        "outputId": "0ad3a19c-9c8d-400a-f08f-64b0d805199b"
      },
      "source": [
        "# Таблица коэффициентов модели (в зависимости от модели могут выводиться также стандартная ошибка, z-score и p-value)\n",
        "\n",
        "glm_poisson._model_json['output']['coefficients_table'].as_data_frame()"
      ],
      "execution_count": 529,
      "outputs": [
        {
          "output_type": "execute_result",
          "data": {
            "text/html": [
              "<div>\n",
              "<style scoped>\n",
              "    .dataframe tbody tr th:only-of-type {\n",
              "        vertical-align: middle;\n",
              "    }\n",
              "\n",
              "    .dataframe tbody tr th {\n",
              "        vertical-align: top;\n",
              "    }\n",
              "\n",
              "    .dataframe thead th {\n",
              "        text-align: right;\n",
              "    }\n",
              "</style>\n",
              "<table border=\"1\" class=\"dataframe\">\n",
              "  <thead>\n",
              "    <tr style=\"text-align: right;\">\n",
              "      <th></th>\n",
              "      <th>names</th>\n",
              "      <th>coefficients</th>\n",
              "      <th>standardized_coefficients</th>\n",
              "    </tr>\n",
              "  </thead>\n",
              "  <tbody>\n",
              "    <tr>\n",
              "      <th>0</th>\n",
              "      <td>Intercept</td>\n",
              "      <td>-2.249790</td>\n",
              "      <td>-1.946601</td>\n",
              "    </tr>\n",
              "    <tr>\n",
              "      <th>1</th>\n",
              "      <td>LicAge</td>\n",
              "      <td>-0.001359</td>\n",
              "      <td>-0.216671</td>\n",
              "    </tr>\n",
              "    <tr>\n",
              "      <th>2</th>\n",
              "      <td>Gender</td>\n",
              "      <td>0.019998</td>\n",
              "      <td>0.009684</td>\n",
              "    </tr>\n",
              "    <tr>\n",
              "      <th>3</th>\n",
              "      <td>MariStat</td>\n",
              "      <td>-0.053385</td>\n",
              "      <td>-0.019089</td>\n",
              "    </tr>\n",
              "    <tr>\n",
              "      <th>4</th>\n",
              "      <td>DrivAge</td>\n",
              "      <td>0.000071</td>\n",
              "      <td>0.001062</td>\n",
              "    </tr>\n",
              "    <tr>\n",
              "      <th>5</th>\n",
              "      <td>HasKmLimit</td>\n",
              "      <td>-0.394720</td>\n",
              "      <td>-0.122648</td>\n",
              "    </tr>\n",
              "    <tr>\n",
              "      <th>6</th>\n",
              "      <td>BonusMalus</td>\n",
              "      <td>0.007141</td>\n",
              "      <td>0.107674</td>\n",
              "    </tr>\n",
              "    <tr>\n",
              "      <th>7</th>\n",
              "      <td>ClaimNbResp</td>\n",
              "      <td>0.055883</td>\n",
              "      <td>0.029302</td>\n",
              "    </tr>\n",
              "    <tr>\n",
              "      <th>8</th>\n",
              "      <td>ClaimNbNonResp</td>\n",
              "      <td>0.133666</td>\n",
              "      <td>0.079520</td>\n",
              "    </tr>\n",
              "    <tr>\n",
              "      <th>9</th>\n",
              "      <td>ClaimNbParking</td>\n",
              "      <td>0.173510</td>\n",
              "      <td>0.051149</td>\n",
              "    </tr>\n",
              "    <tr>\n",
              "      <th>10</th>\n",
              "      <td>ClaimNbFireTheft</td>\n",
              "      <td>0.039680</td>\n",
              "      <td>0.011452</td>\n",
              "    </tr>\n",
              "    <tr>\n",
              "      <th>11</th>\n",
              "      <td>ClaimNbWindscreen</td>\n",
              "      <td>0.134951</td>\n",
              "      <td>0.085531</td>\n",
              "    </tr>\n",
              "    <tr>\n",
              "      <th>12</th>\n",
              "      <td>OutUseNb</td>\n",
              "      <td>0.057328</td>\n",
              "      <td>0.038461</td>\n",
              "    </tr>\n",
              "    <tr>\n",
              "      <th>13</th>\n",
              "      <td>RiskArea</td>\n",
              "      <td>0.015135</td>\n",
              "      <td>0.033485</td>\n",
              "    </tr>\n",
              "    <tr>\n",
              "      <th>14</th>\n",
              "      <td>VehUsage_Private</td>\n",
              "      <td>-0.103175</td>\n",
              "      <td>-0.048933</td>\n",
              "    </tr>\n",
              "    <tr>\n",
              "      <th>15</th>\n",
              "      <td>VehUsage_Private+trip to office</td>\n",
              "      <td>0.000000</td>\n",
              "      <td>0.000000</td>\n",
              "    </tr>\n",
              "    <tr>\n",
              "      <th>16</th>\n",
              "      <td>VehUsage_Professional</td>\n",
              "      <td>0.250237</td>\n",
              "      <td>0.083958</td>\n",
              "    </tr>\n",
              "    <tr>\n",
              "      <th>17</th>\n",
              "      <td>VehUsage_Professional run</td>\n",
              "      <td>0.258435</td>\n",
              "      <td>0.035044</td>\n",
              "    </tr>\n",
              "    <tr>\n",
              "      <th>18</th>\n",
              "      <td>SocioCateg_CSP1</td>\n",
              "      <td>-0.114849</td>\n",
              "      <td>-0.017809</td>\n",
              "    </tr>\n",
              "    <tr>\n",
              "      <th>19</th>\n",
              "      <td>SocioCateg_CSP2</td>\n",
              "      <td>-0.181833</td>\n",
              "      <td>-0.030955</td>\n",
              "    </tr>\n",
              "    <tr>\n",
              "      <th>20</th>\n",
              "      <td>SocioCateg_CSP3</td>\n",
              "      <td>0.201108</td>\n",
              "      <td>0.020955</td>\n",
              "    </tr>\n",
              "    <tr>\n",
              "      <th>21</th>\n",
              "      <td>SocioCateg_CSP4</td>\n",
              "      <td>0.035074</td>\n",
              "      <td>0.008867</td>\n",
              "    </tr>\n",
              "    <tr>\n",
              "      <th>22</th>\n",
              "      <td>SocioCateg_CSP5</td>\n",
              "      <td>0.000000</td>\n",
              "      <td>0.000000</td>\n",
              "    </tr>\n",
              "    <tr>\n",
              "      <th>23</th>\n",
              "      <td>SocioCateg_CSP6</td>\n",
              "      <td>0.045940</td>\n",
              "      <td>0.019125</td>\n",
              "    </tr>\n",
              "    <tr>\n",
              "      <th>24</th>\n",
              "      <td>SocioCateg_CSP7</td>\n",
              "      <td>-0.198812</td>\n",
              "      <td>-0.001947</td>\n",
              "    </tr>\n",
              "    <tr>\n",
              "      <th>25</th>\n",
              "      <td>DrivAgeSq</td>\n",
              "      <td>-0.000014</td>\n",
              "      <td>-0.021105</td>\n",
              "    </tr>\n",
              "    <tr>\n",
              "      <th>26</th>\n",
              "      <td>LicAgeSq</td>\n",
              "      <td>0.000002</td>\n",
              "      <td>0.178800</td>\n",
              "    </tr>\n",
              "    <tr>\n",
              "      <th>27</th>\n",
              "      <td>BonusMalusSq</td>\n",
              "      <td>-0.000018</td>\n",
              "      <td>-0.039779</td>\n",
              "    </tr>\n",
              "  </tbody>\n",
              "</table>\n",
              "</div>"
            ],
            "text/plain": [
              "                              names  coefficients  standardized_coefficients\n",
              "0                         Intercept     -2.249790                  -1.946601\n",
              "1                            LicAge     -0.001359                  -0.216671\n",
              "2                            Gender      0.019998                   0.009684\n",
              "3                          MariStat     -0.053385                  -0.019089\n",
              "4                           DrivAge      0.000071                   0.001062\n",
              "5                        HasKmLimit     -0.394720                  -0.122648\n",
              "6                        BonusMalus      0.007141                   0.107674\n",
              "7                       ClaimNbResp      0.055883                   0.029302\n",
              "8                    ClaimNbNonResp      0.133666                   0.079520\n",
              "9                    ClaimNbParking      0.173510                   0.051149\n",
              "10                 ClaimNbFireTheft      0.039680                   0.011452\n",
              "11                ClaimNbWindscreen      0.134951                   0.085531\n",
              "12                         OutUseNb      0.057328                   0.038461\n",
              "13                         RiskArea      0.015135                   0.033485\n",
              "14                 VehUsage_Private     -0.103175                  -0.048933\n",
              "15  VehUsage_Private+trip to office      0.000000                   0.000000\n",
              "16            VehUsage_Professional      0.250237                   0.083958\n",
              "17        VehUsage_Professional run      0.258435                   0.035044\n",
              "18                  SocioCateg_CSP1     -0.114849                  -0.017809\n",
              "19                  SocioCateg_CSP2     -0.181833                  -0.030955\n",
              "20                  SocioCateg_CSP3      0.201108                   0.020955\n",
              "21                  SocioCateg_CSP4      0.035074                   0.008867\n",
              "22                  SocioCateg_CSP5      0.000000                   0.000000\n",
              "23                  SocioCateg_CSP6      0.045940                   0.019125\n",
              "24                  SocioCateg_CSP7     -0.198812                  -0.001947\n",
              "25                        DrivAgeSq     -0.000014                  -0.021105\n",
              "26                         LicAgeSq      0.000002                   0.178800\n",
              "27                     BonusMalusSq     -0.000018                  -0.039779"
            ]
          },
          "metadata": {
            "tags": []
          },
          "execution_count": 529
        }
      ]
    },
    {
      "cell_type": "code",
      "metadata": {
        "id": "bB9dvlVLGFg_",
        "colab_type": "code",
        "colab": {
          "base_uri": "https://localhost:8080/",
          "height": 917
        },
        "outputId": "19d66907-fbf6-4c3b-8a5a-861f1d1a331a"
      },
      "source": [
        "# Таблица нормированных коэффициентов по всем данным и на кросс-валидации\n",
        "\n",
        "pmodels = {}\n",
        "pmodels['overall'] = glm_poisson.coef_norm()\n",
        "for x in range(len(glm_poisson.cross_validation_models())):\n",
        "    pmodels[x] = glm_poisson.cross_validation_models()[x].coef_norm()\n",
        "pd.DataFrame.from_dict(pmodels).round(5)"
      ],
      "execution_count": 530,
      "outputs": [
        {
          "output_type": "execute_result",
          "data": {
            "text/html": [
              "<div>\n",
              "<style scoped>\n",
              "    .dataframe tbody tr th:only-of-type {\n",
              "        vertical-align: middle;\n",
              "    }\n",
              "\n",
              "    .dataframe tbody tr th {\n",
              "        vertical-align: top;\n",
              "    }\n",
              "\n",
              "    .dataframe thead th {\n",
              "        text-align: right;\n",
              "    }\n",
              "</style>\n",
              "<table border=\"1\" class=\"dataframe\">\n",
              "  <thead>\n",
              "    <tr style=\"text-align: right;\">\n",
              "      <th></th>\n",
              "      <th>overall</th>\n",
              "      <th>0</th>\n",
              "      <th>1</th>\n",
              "      <th>2</th>\n",
              "      <th>3</th>\n",
              "      <th>4</th>\n",
              "    </tr>\n",
              "  </thead>\n",
              "  <tbody>\n",
              "    <tr>\n",
              "      <th>Intercept</th>\n",
              "      <td>-1.94660</td>\n",
              "      <td>-1.94193</td>\n",
              "      <td>-1.96710</td>\n",
              "      <td>-1.95014</td>\n",
              "      <td>-1.94188</td>\n",
              "      <td>-1.93383</td>\n",
              "    </tr>\n",
              "    <tr>\n",
              "      <th>LicAge</th>\n",
              "      <td>-0.21667</td>\n",
              "      <td>-0.24462</td>\n",
              "      <td>-0.18815</td>\n",
              "      <td>-0.22012</td>\n",
              "      <td>-0.22128</td>\n",
              "      <td>-0.18139</td>\n",
              "    </tr>\n",
              "    <tr>\n",
              "      <th>Gender</th>\n",
              "      <td>0.00968</td>\n",
              "      <td>0.01326</td>\n",
              "      <td>0.01122</td>\n",
              "      <td>0.01719</td>\n",
              "      <td>-0.00447</td>\n",
              "      <td>0.01172</td>\n",
              "    </tr>\n",
              "    <tr>\n",
              "      <th>MariStat</th>\n",
              "      <td>-0.01909</td>\n",
              "      <td>-0.01763</td>\n",
              "      <td>-0.02421</td>\n",
              "      <td>-0.01526</td>\n",
              "      <td>-0.01142</td>\n",
              "      <td>-0.02460</td>\n",
              "    </tr>\n",
              "    <tr>\n",
              "      <th>DrivAge</th>\n",
              "      <td>0.00106</td>\n",
              "      <td>0.00991</td>\n",
              "      <td>0.00582</td>\n",
              "      <td>-0.04317</td>\n",
              "      <td>0.03522</td>\n",
              "      <td>0.00000</td>\n",
              "    </tr>\n",
              "    <tr>\n",
              "      <th>HasKmLimit</th>\n",
              "      <td>-0.12265</td>\n",
              "      <td>-0.11331</td>\n",
              "      <td>-0.14033</td>\n",
              "      <td>-0.12498</td>\n",
              "      <td>-0.10639</td>\n",
              "      <td>-0.12871</td>\n",
              "    </tr>\n",
              "    <tr>\n",
              "      <th>BonusMalus</th>\n",
              "      <td>0.10767</td>\n",
              "      <td>0.13187</td>\n",
              "      <td>0.10853</td>\n",
              "      <td>0.06640</td>\n",
              "      <td>0.09589</td>\n",
              "      <td>0.13956</td>\n",
              "    </tr>\n",
              "    <tr>\n",
              "      <th>ClaimNbResp</th>\n",
              "      <td>0.02930</td>\n",
              "      <td>0.02823</td>\n",
              "      <td>0.02604</td>\n",
              "      <td>0.02778</td>\n",
              "      <td>0.03127</td>\n",
              "      <td>0.03186</td>\n",
              "    </tr>\n",
              "    <tr>\n",
              "      <th>ClaimNbNonResp</th>\n",
              "      <td>0.07952</td>\n",
              "      <td>0.08473</td>\n",
              "      <td>0.07057</td>\n",
              "      <td>0.08751</td>\n",
              "      <td>0.07933</td>\n",
              "      <td>0.07553</td>\n",
              "    </tr>\n",
              "    <tr>\n",
              "      <th>ClaimNbParking</th>\n",
              "      <td>0.05115</td>\n",
              "      <td>0.04445</td>\n",
              "      <td>0.06103</td>\n",
              "      <td>0.05354</td>\n",
              "      <td>0.05222</td>\n",
              "      <td>0.04404</td>\n",
              "    </tr>\n",
              "    <tr>\n",
              "      <th>ClaimNbFireTheft</th>\n",
              "      <td>0.01145</td>\n",
              "      <td>0.00700</td>\n",
              "      <td>-0.00060</td>\n",
              "      <td>0.02748</td>\n",
              "      <td>0.00336</td>\n",
              "      <td>0.01938</td>\n",
              "    </tr>\n",
              "    <tr>\n",
              "      <th>ClaimNbWindscreen</th>\n",
              "      <td>0.08553</td>\n",
              "      <td>0.09126</td>\n",
              "      <td>0.08527</td>\n",
              "      <td>0.08699</td>\n",
              "      <td>0.07316</td>\n",
              "      <td>0.09071</td>\n",
              "    </tr>\n",
              "    <tr>\n",
              "      <th>OutUseNb</th>\n",
              "      <td>0.03846</td>\n",
              "      <td>0.02731</td>\n",
              "      <td>0.03520</td>\n",
              "      <td>0.04579</td>\n",
              "      <td>0.03833</td>\n",
              "      <td>0.04506</td>\n",
              "    </tr>\n",
              "    <tr>\n",
              "      <th>RiskArea</th>\n",
              "      <td>0.03348</td>\n",
              "      <td>0.03857</td>\n",
              "      <td>0.03043</td>\n",
              "      <td>0.02950</td>\n",
              "      <td>0.03996</td>\n",
              "      <td>0.02852</td>\n",
              "    </tr>\n",
              "    <tr>\n",
              "      <th>VehUsage_Private</th>\n",
              "      <td>-0.04893</td>\n",
              "      <td>-0.02804</td>\n",
              "      <td>-0.04495</td>\n",
              "      <td>-0.04337</td>\n",
              "      <td>-0.06985</td>\n",
              "      <td>-0.05835</td>\n",
              "    </tr>\n",
              "    <tr>\n",
              "      <th>VehUsage_Private+trip to office</th>\n",
              "      <td>0.00000</td>\n",
              "      <td>0.00000</td>\n",
              "      <td>0.00000</td>\n",
              "      <td>0.00000</td>\n",
              "      <td>0.00000</td>\n",
              "      <td>0.00000</td>\n",
              "    </tr>\n",
              "    <tr>\n",
              "      <th>VehUsage_Professional</th>\n",
              "      <td>0.08396</td>\n",
              "      <td>0.08871</td>\n",
              "      <td>0.09069</td>\n",
              "      <td>0.08437</td>\n",
              "      <td>0.06958</td>\n",
              "      <td>0.08388</td>\n",
              "    </tr>\n",
              "    <tr>\n",
              "      <th>VehUsage_Professional run</th>\n",
              "      <td>0.03504</td>\n",
              "      <td>0.03604</td>\n",
              "      <td>0.03187</td>\n",
              "      <td>0.04383</td>\n",
              "      <td>0.02877</td>\n",
              "      <td>0.03327</td>\n",
              "    </tr>\n",
              "    <tr>\n",
              "      <th>SocioCateg_CSP1</th>\n",
              "      <td>-0.01781</td>\n",
              "      <td>-0.02008</td>\n",
              "      <td>-0.01046</td>\n",
              "      <td>-0.01400</td>\n",
              "      <td>-0.02727</td>\n",
              "      <td>-0.01696</td>\n",
              "    </tr>\n",
              "    <tr>\n",
              "      <th>SocioCateg_CSP2</th>\n",
              "      <td>-0.03096</td>\n",
              "      <td>-0.03034</td>\n",
              "      <td>-0.03278</td>\n",
              "      <td>-0.03765</td>\n",
              "      <td>-0.01970</td>\n",
              "      <td>-0.03335</td>\n",
              "    </tr>\n",
              "    <tr>\n",
              "      <th>SocioCateg_CSP3</th>\n",
              "      <td>0.02096</td>\n",
              "      <td>0.02390</td>\n",
              "      <td>0.00994</td>\n",
              "      <td>0.02082</td>\n",
              "      <td>0.01555</td>\n",
              "      <td>0.03151</td>\n",
              "    </tr>\n",
              "    <tr>\n",
              "      <th>SocioCateg_CSP4</th>\n",
              "      <td>0.00887</td>\n",
              "      <td>0.00883</td>\n",
              "      <td>0.01287</td>\n",
              "      <td>0.01432</td>\n",
              "      <td>0.00881</td>\n",
              "      <td>0.00000</td>\n",
              "    </tr>\n",
              "    <tr>\n",
              "      <th>SocioCateg_CSP5</th>\n",
              "      <td>0.00000</td>\n",
              "      <td>0.00000</td>\n",
              "      <td>0.00000</td>\n",
              "      <td>0.00000</td>\n",
              "      <td>0.00000</td>\n",
              "      <td>0.00000</td>\n",
              "    </tr>\n",
              "    <tr>\n",
              "      <th>SocioCateg_CSP6</th>\n",
              "      <td>0.01912</td>\n",
              "      <td>0.00982</td>\n",
              "      <td>0.02729</td>\n",
              "      <td>0.00680</td>\n",
              "      <td>0.03402</td>\n",
              "      <td>0.01698</td>\n",
              "    </tr>\n",
              "    <tr>\n",
              "      <th>SocioCateg_CSP7</th>\n",
              "      <td>-0.00195</td>\n",
              "      <td>0.00348</td>\n",
              "      <td>0.00070</td>\n",
              "      <td>-0.03330</td>\n",
              "      <td>-0.00050</td>\n",
              "      <td>0.00000</td>\n",
              "    </tr>\n",
              "    <tr>\n",
              "      <th>DrivAgeSq</th>\n",
              "      <td>-0.02110</td>\n",
              "      <td>-0.02838</td>\n",
              "      <td>0.00000</td>\n",
              "      <td>-0.00258</td>\n",
              "      <td>-0.06584</td>\n",
              "      <td>-0.00886</td>\n",
              "    </tr>\n",
              "    <tr>\n",
              "      <th>LicAgeSq</th>\n",
              "      <td>0.17880</td>\n",
              "      <td>0.20175</td>\n",
              "      <td>0.11477</td>\n",
              "      <td>0.21074</td>\n",
              "      <td>0.19203</td>\n",
              "      <td>0.14645</td>\n",
              "    </tr>\n",
              "    <tr>\n",
              "      <th>BonusMalusSq</th>\n",
              "      <td>-0.03978</td>\n",
              "      <td>-0.06593</td>\n",
              "      <td>-0.03039</td>\n",
              "      <td>0.00000</td>\n",
              "      <td>-0.02696</td>\n",
              "      <td>-0.07667</td>\n",
              "    </tr>\n",
              "  </tbody>\n",
              "</table>\n",
              "</div>"
            ],
            "text/plain": [
              "                                 overall        0  ...        3        4\n",
              "Intercept                       -1.94660 -1.94193  ... -1.94188 -1.93383\n",
              "LicAge                          -0.21667 -0.24462  ... -0.22128 -0.18139\n",
              "Gender                           0.00968  0.01326  ... -0.00447  0.01172\n",
              "MariStat                        -0.01909 -0.01763  ... -0.01142 -0.02460\n",
              "DrivAge                          0.00106  0.00991  ...  0.03522  0.00000\n",
              "HasKmLimit                      -0.12265 -0.11331  ... -0.10639 -0.12871\n",
              "BonusMalus                       0.10767  0.13187  ...  0.09589  0.13956\n",
              "ClaimNbResp                      0.02930  0.02823  ...  0.03127  0.03186\n",
              "ClaimNbNonResp                   0.07952  0.08473  ...  0.07933  0.07553\n",
              "ClaimNbParking                   0.05115  0.04445  ...  0.05222  0.04404\n",
              "ClaimNbFireTheft                 0.01145  0.00700  ...  0.00336  0.01938\n",
              "ClaimNbWindscreen                0.08553  0.09126  ...  0.07316  0.09071\n",
              "OutUseNb                         0.03846  0.02731  ...  0.03833  0.04506\n",
              "RiskArea                         0.03348  0.03857  ...  0.03996  0.02852\n",
              "VehUsage_Private                -0.04893 -0.02804  ... -0.06985 -0.05835\n",
              "VehUsage_Private+trip to office  0.00000  0.00000  ...  0.00000  0.00000\n",
              "VehUsage_Professional            0.08396  0.08871  ...  0.06958  0.08388\n",
              "VehUsage_Professional run        0.03504  0.03604  ...  0.02877  0.03327\n",
              "SocioCateg_CSP1                 -0.01781 -0.02008  ... -0.02727 -0.01696\n",
              "SocioCateg_CSP2                 -0.03096 -0.03034  ... -0.01970 -0.03335\n",
              "SocioCateg_CSP3                  0.02096  0.02390  ...  0.01555  0.03151\n",
              "SocioCateg_CSP4                  0.00887  0.00883  ...  0.00881  0.00000\n",
              "SocioCateg_CSP5                  0.00000  0.00000  ...  0.00000  0.00000\n",
              "SocioCateg_CSP6                  0.01912  0.00982  ...  0.03402  0.01698\n",
              "SocioCateg_CSP7                 -0.00195  0.00348  ... -0.00050  0.00000\n",
              "DrivAgeSq                       -0.02110 -0.02838  ... -0.06584 -0.00886\n",
              "LicAgeSq                         0.17880  0.20175  ...  0.19203  0.14645\n",
              "BonusMalusSq                    -0.03978 -0.06593  ... -0.02696 -0.07667\n",
              "\n",
              "[28 rows x 6 columns]"
            ]
          },
          "metadata": {
            "tags": []
          },
          "execution_count": 530
        }
      ]
    },
    {
      "cell_type": "code",
      "metadata": {
        "id": "fPW3b_jJGHOI",
        "colab_type": "code",
        "colab": {
          "base_uri": "https://localhost:8080/",
          "height": 68
        },
        "outputId": "490c5ad7-1ef3-40c6-bda5-998b2824d5da"
      },
      "source": [
        "# Построение прогнозных значений для обучающей, валидационной и тестовой выборок\n",
        "\n",
        "ind_train_pred = glm_poisson.predict(h2o_train_ind).as_data_frame()\n",
        "ind_valid_pred = glm_poisson.predict(h2o_valid_ind).as_data_frame()\n",
        "ind_test_pred = glm_poisson.predict(h2o_test_ind).as_data_frame()"
      ],
      "execution_count": 531,
      "outputs": [
        {
          "output_type": "stream",
          "text": [
            "glm prediction progress: |████████████████████████████████████████████████| 100%\n",
            "glm prediction progress: |████████████████████████████████████████████████| 100%\n",
            "glm prediction progress: |████████████████████████████████████████████████| 100%\n"
          ],
          "name": "stdout"
        }
      ]
    },
    {
      "cell_type": "code",
      "metadata": {
        "id": "KedzHk_gGJMN",
        "colab_type": "code",
        "colab": {}
      },
      "source": [
        "from sklearn.metrics import accuracy_score, f1_score, confusion_matrix, precision_score, recall_score, roc_auc_score"
      ],
      "execution_count": 0,
      "outputs": []
    },
    {
      "cell_type": "code",
      "metadata": {
        "id": "Dxoq7nDGSm0S",
        "colab_type": "code",
        "colab": {
          "base_uri": "https://localhost:8080/",
          "height": 51
        },
        "outputId": "b54fe696-7bc6-425d-da4d-954d89b2b6e3"
      },
      "source": [
        "confusion_matrix(y_train_ind, round(ind_train_pred['predict']))"
      ],
      "execution_count": 533,
      "outputs": [
        {
          "output_type": "execute_result",
          "data": {
            "text/plain": [
              "array([[32324, 40649],\n",
              "       [ 2514,  5121]])"
            ]
          },
          "metadata": {
            "tags": []
          },
          "execution_count": 533
        }
      ]
    },
    {
      "cell_type": "code",
      "metadata": {
        "id": "VhLTp5nlVGKD",
        "colab_type": "code",
        "colab": {
          "base_uri": "https://localhost:8080/",
          "height": 51
        },
        "outputId": "3b07d0d4-6272-49d2-8363-0c82ff8fbb64"
      },
      "source": [
        "confusion_matrix(y_valid_ind, round(ind_valid_pred['predict']))"
      ],
      "execution_count": 534,
      "outputs": [
        {
          "output_type": "execute_result",
          "data": {
            "text/plain": [
              "array([[6926, 8738],\n",
              "       [ 539, 1070]])"
            ]
          },
          "metadata": {
            "tags": []
          },
          "execution_count": 534
        }
      ]
    },
    {
      "cell_type": "code",
      "metadata": {
        "id": "O5IGsZxyVGPb",
        "colab_type": "code",
        "colab": {
          "base_uri": "https://localhost:8080/",
          "height": 51
        },
        "outputId": "2bc78153-df5a-4ec3-9c97-b7f9961cb973"
      },
      "source": [
        "confusion_matrix(y_test_ind, round(ind_test_pred['predict']))"
      ],
      "execution_count": 535,
      "outputs": [
        {
          "output_type": "execute_result",
          "data": {
            "text/plain": [
              "array([[6778, 8871],\n",
              "       [ 547, 1078]])"
            ]
          },
          "metadata": {
            "tags": []
          },
          "execution_count": 535
        }
      ]
    },
    {
      "cell_type": "code",
      "metadata": {
        "id": "EOUs7vQFX8Py",
        "colab_type": "code",
        "colab": {
          "base_uri": "https://localhost:8080/",
          "height": 85
        },
        "outputId": "4d1b7e8c-1678-459f-a8c5-9cbd67b77468"
      },
      "source": [
        "# Выведем импортированные выше метрики классификации для обучающей, валидационной и тестовой выборок\n",
        "\n",
        "print('Accuracy_score:', \n",
        "      '\\ntrain', round(accuracy_score(y_train_ind, round(ind_train_pred['predict'])), 4),\n",
        "      '\\nvalid', round(accuracy_score(y_valid_ind, round(ind_valid_pred['predict'])), 4),\n",
        "      '\\ntest', round(accuracy_score(y_test_ind, round(ind_test_pred['predict'])), 4))"
      ],
      "execution_count": 536,
      "outputs": [
        {
          "output_type": "stream",
          "text": [
            "Accuracy_score: \n",
            "train 0.4645 \n",
            "valid 0.4629 \n",
            "test 0.4548\n"
          ],
          "name": "stdout"
        }
      ]
    },
    {
      "cell_type": "code",
      "metadata": {
        "id": "Ul5fCBqoYdQ9",
        "colab_type": "code",
        "colab": {
          "base_uri": "https://localhost:8080/",
          "height": 85
        },
        "outputId": "c44e025a-36d7-43cc-e9eb-dbffdecf9d56"
      },
      "source": [
        "print('f1_score:', \n",
        "      '\\ntrain', round(f1_score(y_train_ind, round(ind_train_pred['predict'])), 4),\n",
        "      '\\nvalid', round(f1_score(y_valid_ind, round(ind_valid_pred['predict'])), 4),\n",
        "      '\\ntest', round(f1_score(y_test_ind, round(ind_test_pred['predict'])), 4))"
      ],
      "execution_count": 537,
      "outputs": [
        {
          "output_type": "stream",
          "text": [
            "f1_score: \n",
            "train 0.1918 \n",
            "valid 0.1874 \n",
            "test 0.1863\n"
          ],
          "name": "stdout"
        }
      ]
    },
    {
      "cell_type": "code",
      "metadata": {
        "id": "d6kLgFwWaljV",
        "colab_type": "code",
        "colab": {
          "base_uri": "https://localhost:8080/",
          "height": 85
        },
        "outputId": "baa6bce3-5efc-40ce-edc2-c8cd4d3a2664"
      },
      "source": [
        "print('Precision:', \n",
        "      '\\ntrain', round(precision_score(y_train_ind, round(ind_train_pred['predict'])), 4),\n",
        "      '\\nvalid', round(precision_score(y_valid_ind, round(ind_valid_pred['predict'])), 4),\n",
        "      '\\ntest', round(precision_score(y_test_ind, round(ind_test_pred['predict'])), 4))"
      ],
      "execution_count": 538,
      "outputs": [
        {
          "output_type": "stream",
          "text": [
            "Precision: \n",
            "train 0.1119 \n",
            "valid 0.1091 \n",
            "test 0.1084\n"
          ],
          "name": "stdout"
        }
      ]
    },
    {
      "cell_type": "code",
      "metadata": {
        "id": "992s4mezalsr",
        "colab_type": "code",
        "colab": {
          "base_uri": "https://localhost:8080/",
          "height": 85
        },
        "outputId": "747d915d-ff6d-4b9c-baa6-306a5c637e11"
      },
      "source": [
        "print('Recall:', \n",
        "      '\\ntrain', round(recall_score(y_train_ind, round(ind_train_pred['predict'])), 4),\n",
        "      '\\nvalid', round(recall_score(y_valid_ind, round(ind_valid_pred['predict'])), 4),\n",
        "      '\\ntest', round(recall_score(y_test_ind, round(ind_test_pred['predict'])), 4))"
      ],
      "execution_count": 539,
      "outputs": [
        {
          "output_type": "stream",
          "text": [
            "Recall: \n",
            "train 0.6707 \n",
            "valid 0.665 \n",
            "test 0.6634\n"
          ],
          "name": "stdout"
        }
      ]
    },
    {
      "cell_type": "code",
      "metadata": {
        "id": "jt4YvRnnal26",
        "colab_type": "code",
        "colab": {
          "base_uri": "https://localhost:8080/",
          "height": 85
        },
        "outputId": "b36c6ef9-6dcf-483e-aea2-23849583190b"
      },
      "source": [
        "print('ROC AUC:', \n",
        "      '\\ntrain', round(roc_auc_score(y_train_ind, round(ind_train_pred['predict'])), 4),\n",
        "      '\\nvalid', round(roc_auc_score(y_valid_ind, round(ind_valid_pred['predict'])), 4),\n",
        "      '\\ntest', round(roc_auc_score(y_test_ind, round(ind_test_pred['predict'])), 4))"
      ],
      "execution_count": 540,
      "outputs": [
        {
          "output_type": "stream",
          "text": [
            "ROC AUC: \n",
            "train 0.5568 \n",
            "valid 0.5536 \n",
            "test 0.5483\n"
          ],
          "name": "stdout"
        }
      ]
    },
    {
      "cell_type": "markdown",
      "metadata": {
        "id": "B0B9GhemGQCA",
        "colab_type": "text"
      },
      "source": [
        "**Какие проблемы вы здесь видите? Как можно улучшить данный результат?**"
      ]
    },
    {
      "cell_type": "markdown",
      "metadata": {
        "id": "Amzp8dDKWgqk",
        "colab_type": "text"
      },
      "source": [
        "Качество результатов не высокое, о чем говорит ряд факторов:\n",
        "- значение ROC AUC примерно 0.55;\n",
        "- метрика f1 примерно 0.19;\n",
        "- метрика precision примерно 0.11;\n",
        "- метрика recall примерно 0.66-0.67;\n",
        "\n",
        "Повысить результат можно за счет:\n",
        "- балансирования данных, относящихся к разным классам;\n",
        "- увеличения объема данных;\n",
        "- доработки модели."
      ]
    },
    {
      "cell_type": "code",
      "metadata": {
        "id": "2exs-A3TGM53",
        "colab_type": "code",
        "colab": {}
      },
      "source": [
        ""
      ],
      "execution_count": 0,
      "outputs": []
    }
  ]
}